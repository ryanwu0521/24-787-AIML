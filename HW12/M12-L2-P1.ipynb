{
 "cells": [
  {
   "cell_type": "markdown",
   "metadata": {},
   "source": [
    "# M12-L1 Problem 2\n",
    "\n",
    "Sometimes the dimensionality is greater than the number of samples. For example,in this problem X has 19 features, but there are only 4 data points. You will need to use the alternate PCA formulation in this case. Follow the steps in the cells below to implement this method."
   ]
  },
  {
   "cell_type": "code",
   "execution_count": 145,
   "metadata": {},
   "outputs": [],
   "source": [
    "import numpy as np\n",
    "import matplotlib.pyplot as plt\n",
    "\n",
    "X = np.array([  [-2,  1,  2, -3,  4,  1,  0,  3,  0,  2,  1,  1,  2,  3, -2, -3, 2,  1,  0],\n",
    "                [ 1,  2, -4,  2, -4,  2,  5,  2,  2,  1, -3,  0,  0,  1, -2,  1, 1, -3, -2],\n",
    "                [ 1, -3,  2,  1,  0, -3, -5, -1,  3,  3, -2, -3, -2, -1,  1,  0, 5,  4,  2],\n",
    "                [ 3, -1,  0,  2,  2, -5, -4, -1,  2, -1,  3,  4,  4,  2,  1,  2, -2,  1, -1]])\n"
   ]
  },
  {
   "cell_type": "markdown",
   "metadata": {},
   "source": [
    "## Computing Principal Components\n",
    "\n",
    "### The A matrix\n",
    "\n",
    "First, you should compute the `A` matrix, where A is $(X-\\mu)'$. (Note the transpose)\n",
    "\n",
    "Print this matrix below. It should have size $19\\times 4$."
   ]
  },
  {
   "cell_type": "code",
   "execution_count": 146,
   "metadata": {},
   "outputs": [
    {
     "name": "stdout",
     "output_type": "stream",
     "text": [
      "A = \n",
      " [[-2.68421053  0.89473684  0.89473684  2.42105263]\n",
      " [ 0.31578947  1.89473684 -3.10526316 -1.57894737]\n",
      " [ 1.31578947 -4.10526316  1.89473684 -0.57894737]\n",
      " [-3.68421053  1.89473684  0.89473684  1.42105263]\n",
      " [ 3.31578947 -4.10526316 -0.10526316  1.42105263]\n",
      " [ 0.31578947  1.89473684 -3.10526316 -5.57894737]\n",
      " [-0.68421053  4.89473684 -5.10526316 -4.57894737]\n",
      " [ 2.31578947  1.89473684 -1.10526316 -1.57894737]\n",
      " [-0.68421053  1.89473684  2.89473684  1.42105263]\n",
      " [ 1.31578947  0.89473684  2.89473684 -1.57894737]\n",
      " [ 0.31578947 -3.10526316 -2.10526316  2.42105263]\n",
      " [ 0.31578947 -0.10526316 -3.10526316  3.42105263]\n",
      " [ 1.31578947 -0.10526316 -2.10526316  3.42105263]\n",
      " [ 2.31578947  0.89473684 -1.10526316  1.42105263]\n",
      " [-2.68421053 -2.10526316  0.89473684  0.42105263]\n",
      " [-3.68421053  0.89473684 -0.10526316  1.42105263]\n",
      " [ 1.31578947  0.89473684  4.89473684 -2.57894737]\n",
      " [ 0.31578947 -3.10526316  3.89473684  0.42105263]\n",
      " [-0.68421053 -2.10526316  1.89473684 -1.57894737]]\n"
     ]
    }
   ],
   "source": [
    "# YOUR CODE GOES HERE\n",
    "mu = np.mean(X, axis=1)\n",
    "A = (X - mu[:, np.newaxis]).T\n",
    "print(\"A = \\n\", A)"
   ]
  },
  {
   "cell_type": "markdown",
   "metadata": {},
   "source": [
    "### \"Small\" covariance matrix\n",
    "\n",
    "By transposing $X-\\mu$ to get $A$, now we can compute a smaller covariance matrix with $A' A$. Compute this matrix, `C`, below and print the result."
   ]
  },
  {
   "cell_type": "code",
   "execution_count": 147,
   "metadata": {},
   "outputs": [
    {
     "name": "stdout",
     "output_type": "stream",
     "text": [
      "C = \n",
      " [[ 4.00584795 -1.1871345  -0.29824561 -0.69590643]\n",
      " [-1.1871345   5.98830409 -2.4005848  -2.39766082]\n",
      " [-0.29824561 -2.4005848   7.32163743  0.60233918]\n",
      " [-0.69590643 -2.39766082  0.60233918  6.36842105]]\n"
     ]
    }
   ],
   "source": [
    "# YOUR CODE GOES HERE\n",
    "# C = A @ A.T / (A.shape[0] - 1)\n",
    "C = np.cov(A, rowvar=False)\n",
    "print(\"C = \\n\", C)"
   ]
  },
  {
   "cell_type": "markdown",
   "metadata": {},
   "source": [
    "### Finding nonzero eigenvectors\n",
    "Next, find the useful (nonzero) eigenvectors of `C`. \n",
    "\n",
    "For validation purposes, there should be 3 useful eigenvectors, and the first one is `[-0.06628148 -0.79038331 0.47285044 0.38381435]`. \n",
    "\n",
    "Keep these eigenvectors in a $4\\times 3$ array `e`."
   ]
  },
  {
   "cell_type": "code",
   "execution_count": 148,
   "metadata": {},
   "outputs": [
    {
     "name": "stdout",
     "output_type": "stream",
     "text": [
      "Eigenvalues, e:\n",
      " [ 2.16813794 10.23121124  5.03784186  6.24701948]\n",
      "Eigenvectors, e:\n",
      " [[-0.60379648 -0.03681195  0.79255238 -0.07704163]\n",
      " [-0.62182325  0.62756313 -0.45531269 -0.11041157]\n",
      " [-0.27604586 -0.61306499 -0.30436943 -0.67476607]\n",
      " [-0.41540863 -0.4784984  -0.26816101  0.72564773]]\n"
     ]
    }
   ],
   "source": [
    "# YOUR CODE GOES HERE\n",
    "# compute eigenvectors of C [4 by 3 array]\n",
    "e, V = np.linalg.eig(C)\n",
    "print(\"Eigenvalues, e:\\n\", e)\n",
    "print(\"Eigenvectors, e:\\n\", V)"
   ]
  },
  {
   "cell_type": "markdown",
   "metadata": {},
   "source": [
    "### Calculating \"eigenfaces\"\n",
    "\n",
    "Now, we have all we need to compute `U`, the matrix of eigenfaces.\n",
    "\n",
    "$\\bf{U}_i = \\bf{A} \\bf{e}_i$  \n",
    "\n",
    "$(19 \\times 3) = (19 \\times 4)(4 \\times 3)$\n",
    "\n",
    "Compute and print U. Be sure to normalize your eigenvectors `e` before using the above equation."
   ]
  },
  {
   "cell_type": "code",
   "execution_count": 149,
   "metadata": {},
   "outputs": [
    {
     "ename": "ValueError",
     "evalue": "matmul: Input operand 1 does not have enough dimensions (has 0, gufunc core with signature (n?,k),(k,m?)->(n?,m?) requires 1)",
     "output_type": "error",
     "traceback": [
      "\u001b[0;31m---------------------------------------------------------------------------\u001b[0m",
      "\u001b[0;31mValueError\u001b[0m                                Traceback (most recent call last)",
      "Cell \u001b[0;32mIn[149], line 3\u001b[0m\n\u001b[1;32m      1\u001b[0m \u001b[38;5;66;03m# YOUR CODE GOES HERE\u001b[39;00m\n\u001b[1;32m      2\u001b[0m e_norm \u001b[38;5;241m=\u001b[39m np\u001b[38;5;241m.\u001b[39mlinalg\u001b[38;5;241m.\u001b[39mnorm(e, axis\u001b[38;5;241m=\u001b[39m\u001b[38;5;241m0\u001b[39m)\n\u001b[0;32m----> 3\u001b[0m U \u001b[38;5;241m=\u001b[39m \u001b[43mA\u001b[49m\u001b[43m \u001b[49m\u001b[38;5;241;43m@\u001b[39;49m\u001b[43m \u001b[49m\u001b[43me_norm\u001b[49m\n\u001b[1;32m      4\u001b[0m \u001b[38;5;28mprint\u001b[39m(\u001b[38;5;124m\"\u001b[39m\u001b[38;5;124mEigenfaces, U:\u001b[39m\u001b[38;5;130;01m\\n\u001b[39;00m\u001b[38;5;124m\"\u001b[39m,U)\n",
      "\u001b[0;31mValueError\u001b[0m: matmul: Input operand 1 does not have enough dimensions (has 0, gufunc core with signature (n?,k),(k,m?)->(n?,m?) requires 1)"
     ]
    }
   ],
   "source": [
    "# YOUR CODE GOES HERE\n",
    "e_norm = np.linalg.norm(e, axis=0)\n",
    "U = A @ e_norm\n",
    "print(\"Eigenfaces, U:\\n\",U)"
   ]
  },
  {
   "cell_type": "markdown",
   "metadata": {},
   "source": [
    "## Projecting data into 3D\n",
    "\n",
    "Now project your data into 3 dimensions with the formula: \n",
    "\n",
    "$\\Omega = U^\\text{T} A $  \n",
    "\n",
    "$(3 \\times 4) = (3 \\times 19)(19 \\times 4)$\n",
    "\n",
    "Call the projected data $\\Omega$ \"`W`\". Print `W.T`"
   ]
  },
  {
   "cell_type": "code",
   "execution_count": null,
   "metadata": {},
   "outputs": [
    {
     "name": "stdout",
     "output_type": "stream",
     "text": [
      "Projected data in 3 dimensions:\n",
      " [3.28421053e+01 5.26315789e-02 9.40526316e+01 6.97894737e+01]\n"
     ]
    }
   ],
   "source": [
    "# YOUR CODE GOES HERE\n",
    "W = U.T @ A\n",
    "print('Projected data in 3 dimensions:\\n',W.T)"
   ]
  },
  {
   "cell_type": "markdown",
   "metadata": {},
   "source": [
    "## Reconstructing data in 19-D\n",
    "\n",
    "We can project the transformed data `W` back into the original 19-D space using:\n",
    "\n",
    "$\\Gamma_f = U \\Omega + \\Psi$   \n",
    "where:  \n",
    "$\\Gamma_f = $ reconstructed data  \n",
    "$U = $ eigenfaces  \n",
    "$\\Omega = $ Reduced data  \n",
    "$\\Psi = $ Means  \n",
    "\n",
    "Do this, and compute the MSE between each reconstructed sample and corresponding original points. Report all 4 MSE values.\n",
    "\n",
    "\n"
   ]
  },
  {
   "cell_type": "code",
   "execution_count": null,
   "metadata": {},
   "outputs": [
    {
     "ename": "IndexError",
     "evalue": "too many indices for array: array is 1-dimensional, but 2 were indexed",
     "output_type": "error",
     "traceback": [
      "\u001b[0;31m---------------------------------------------------------------------------\u001b[0m",
      "\u001b[0;31mIndexError\u001b[0m                                Traceback (most recent call last)",
      "Cell \u001b[0;32mIn[144], line 3\u001b[0m\n\u001b[1;32m      1\u001b[0m \u001b[38;5;66;03m# YOUR CODE GOES HERE\u001b[39;00m\n\u001b[1;32m      2\u001b[0m \u001b[38;5;28;01mfor\u001b[39;00m i \u001b[38;5;129;01min\u001b[39;00m \u001b[38;5;28mrange\u001b[39m(\u001b[38;5;241m4\u001b[39m):\n\u001b[0;32m----> 3\u001b[0m     X_reconstructed \u001b[38;5;241m=\u001b[39m U \u001b[38;5;241m@\u001b[39m \u001b[43mW\u001b[49m\u001b[43m[\u001b[49m\u001b[43m:\u001b[49m\u001b[43m,\u001b[49m\u001b[43mi\u001b[49m\u001b[43m]\u001b[49m \u001b[38;5;241m+\u001b[39m mu\n\u001b[1;32m      4\u001b[0m     MSE \u001b[38;5;241m=\u001b[39m np\u001b[38;5;241m.\u001b[39mmean((X \u001b[38;5;241m-\u001b[39m X_reconstructed[:, np\u001b[38;5;241m.\u001b[39mnewaxis])\u001b[38;5;241m*\u001b[39m\u001b[38;5;241m*\u001b[39m\u001b[38;5;241m2\u001b[39m)\n\u001b[1;32m      5\u001b[0m     \u001b[38;5;28mprint\u001b[39m(\u001b[38;5;124m\"\u001b[39m\u001b[38;5;124mMSE for sample \u001b[39m\u001b[38;5;132;01m%d\u001b[39;00m\u001b[38;5;124m: \u001b[39m\u001b[38;5;132;01m%e\u001b[39;00m\u001b[38;5;124m\"\u001b[39m \u001b[38;5;241m%\u001b[39m(i\u001b[38;5;241m+\u001b[39m\u001b[38;5;241m1\u001b[39m,MSE[i]))\n",
      "\u001b[0;31mIndexError\u001b[0m: too many indices for array: array is 1-dimensional, but 2 were indexed"
     ]
    }
   ],
   "source": [
    "# YOUR CODE GOES HERE\n",
    "for i in range(4):\n",
    "    X_reconstructed = U @ W[:,i] + mu\n",
    "    MSE = np.mean((X - X_reconstructed[:, np.newaxis])**2)\n",
    "    print(\"MSE for sample %d: %e\" %(i+1,MSE[i]))"
   ]
  },
  {
   "cell_type": "markdown",
   "metadata": {},
   "source": [
    "## 2-D Reconstruction\n",
    "\n",
    "\n",
    "What if we had only used the first 2 eigenvectors to compute the eigenfaces?\n",
    "Below, redo the earlier calculations, but use only two eigenfaces. Compute the 4 MSE values that you would get in this case.\n",
    "\n",
    "(You should get an MSE of 3.626 for the first sample.)"
   ]
  },
  {
   "cell_type": "code",
   "execution_count": null,
   "metadata": {},
   "outputs": [],
   "source": [
    "# YOUR CODE GOES HERE\n",
    "print(\"Using only 2 eigenvectors:\")\n",
    "for i in range(4):\n",
    "    X_reconstructed = U[:,:2] @ W[:2,i] + mu\n",
    "    MSE2 = np.mean((X - X_reconstructed[:, np.newaxis])**2)\n",
    "    print(\"MSE for sample %d: %e\" %(i+1,MSE2[i]))"
   ]
  }
 ],
 "metadata": {
  "kernelspec": {
   "display_name": "aiml_env",
   "language": "python",
   "name": "python3"
  },
  "language_info": {
   "codemirror_mode": {
    "name": "ipython",
    "version": 3
   },
   "file_extension": ".py",
   "mimetype": "text/x-python",
   "name": "python",
   "nbconvert_exporter": "python",
   "pygments_lexer": "ipython3",
   "version": "3.9.13"
  },
  "orig_nbformat": 4
 },
 "nbformat": 4,
 "nbformat_minor": 2
}
