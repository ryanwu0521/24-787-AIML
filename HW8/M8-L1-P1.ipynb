{
 "cells": [
  {
   "attachments": {},
   "cell_type": "markdown",
   "metadata": {},
   "source": [
    "# M8-L1 Problem 1\n",
    "\n",
    "In this problem you will solve for $\\frac{\\partial L}{\\partial W_2}$ and $\\frac{\\partial L}{\\partial W_1}$ for a neural network with two input features, a hidden layer with 3 nodes, and a single output. You will use the sigmoid activation function on the hidden layer. You are provided an input sample $x_0$, the current weights $W_1$ and $W_2$, and the ground truth value for the sample, $t = -2$\n",
    "\n",
    "$L=\\frac{1}{2}e^Te$"
   ]
  },
  {
   "cell_type": "code",
   "execution_count": 57,
   "metadata": {},
   "outputs": [],
   "source": [
    "import numpy as np\n",
    "\n",
    "x0 = np.array([[-2], [-6]])\n",
    "\n",
    "W1 = np.array([[-2, 1],[3, 8],[-12, 7]])\n",
    "W2 = np.array([[-11, 2, 5]])\n",
    "\n",
    "t = np.array([[-2]])"
   ]
  },
  {
   "attachments": {},
   "cell_type": "markdown",
   "metadata": {},
   "source": [
    "## Define activation function and its derivative\n",
    "\n",
    "First define functions for the sigmoid activation functions, as well as its derivative:"
   ]
  },
  {
   "cell_type": "code",
   "execution_count": 58,
   "metadata": {},
   "outputs": [],
   "source": [
    "# YOUR CODE GOES HERE\n",
    "# sigmoid activation function\n",
    "def sigmoid(x):\n",
    "    return 1 / (1 + np.exp(-x))\n",
    "\n",
    "# derivative of sigmoid\n",
    "def sigmoid_derivative(x):\n",
    "    return x * (1 - x)"
   ]
  },
  {
   "attachments": {},
   "cell_type": "markdown",
   "metadata": {},
   "source": [
    "# Forward propagation\n",
    "\n",
    "Using your activation function, compute the output of the network $y$ using the sample $x_0$ and the provided weights $W_1$ and $W_2$"
   ]
  },
  {
   "cell_type": "code",
   "execution_count": 59,
   "metadata": {},
   "outputs": [
    {
     "name": "stdout",
     "output_type": "stream",
     "text": [
      "The output of the network y:  [[-1.31123207]]\n"
     ]
    }
   ],
   "source": [
    "# YOUR CODE GOES HERE\n",
    "# foward propagation\n",
    "\n",
    "a1 = np.dot(W1, x0)\n",
    "out1 = sigmoid(a1)\n",
    "\n",
    "a2 = np.dot(W2, out1)\n",
    "# out2 = sigmoid(a2)\n",
    "y = a2\n",
    "\n",
    "# print the output\n",
    "print(\"The output of the network y: \", y)"
   ]
  },
  {
   "attachments": {},
   "cell_type": "markdown",
   "metadata": {},
   "source": [
    "## Backpropagation\n",
    "\n",
    "Using your calculated value of $y$, the provided value of $t$, your $\\sigma$ and $\\sigma'$ function, and the provided weights $W_1$ and $W_2$, compute the gradients $\\frac{\\partial L}{\\partial W_2}$ and $\\frac{\\partial L}{\\partial W_1}$."
   ]
  },
  {
   "cell_type": "code",
   "execution_count": 60,
   "metadata": {},
   "outputs": [
    {
     "name": "stdout",
     "output_type": "stream",
     "text": [
      "The gradient with respect to W2:\n",
      "  [[8.21031503e-02 2.43316128e-24 1.04899215e-08]]\n",
      "The gradient with respect to W1:\n",
      "  [[ 1.59095673e+00  4.77287018e+00]\n",
      " [-9.73264513e-24 -2.91979354e-23]\n",
      " [-1.04899214e-07 -3.14697641e-07]]\n"
     ]
    }
   ],
   "source": [
    "# YOUR CODE GOES HERE\n",
    "# backward propagation\n",
    "\n",
    "# derivative of the loss function with respect to the output y\n",
    "f_prime = 1\n",
    "\n",
    "# compute the gradients (with respect to weights W1 and W2)\n",
    "gamma_2 = -(t - y) * f_prime\n",
    "d2 = np.dot(gamma_2, out1.T)\n",
    "gamma_1 = np.dot(W2.T, gamma_2) * sigmoid_derivative(out1)\n",
    "d1 = np.dot(gamma_1, x0.T)\n",
    "\n",
    "# print the gradients\n",
    "print(\"The gradient with respect to W2:\\n \", d2)\n",
    "print(\"The gradient with respect to W1:\\n \", d1)"
   ]
  }
 ],
 "metadata": {
  "kernelspec": {
   "display_name": "base",
   "language": "python",
   "name": "python3"
  },
  "language_info": {
   "codemirror_mode": {
    "name": "ipython",
    "version": 3
   },
   "file_extension": ".py",
   "mimetype": "text/x-python",
   "name": "python",
   "nbconvert_exporter": "python",
   "pygments_lexer": "ipython3",
   "version": "3.9.13"
  },
  "orig_nbformat": 4
 },
 "nbformat": 4,
 "nbformat_minor": 2
}
