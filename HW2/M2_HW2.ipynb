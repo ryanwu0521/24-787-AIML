{
 "cells": [
  {
   "attachments": {},
   "cell_type": "markdown",
   "metadata": {},
   "source": [
    "# Porblem 2 (30 points)\n",
    "\n",
    "## Problem Description\n",
    "\n",
    "In this problem you will use linear least squares to fit a linear function to a 3D temperature field, with x,y,z locations and an associated temperature T.\n",
    "\n",
    "Fill out the notebook as instructed, making the requested plots and printing necessary values. \n",
    "\n",
    "*You are welcome to use any of the code provided in the lecture activities.*\n",
    "\n",
    "#### Summary of deliverables:\n",
    "\n",
    "Results:\n",
    "- Predicted temperature `T(5,5,5)` using a hand-coded LLS squares model with a linear function\n",
    "- Direction of travel from `(5,5,5)` to experience the greatest decrease in temperature\n",
    "\n",
    "Discussion:\n",
    "- Reasoning for how we can use our fitted function to determine the direction of greatest decrease in temperature\n",
    "\n",
    "#### Imports and Utility Functions:"
   ]
  },
  {
   "cell_type": "code",
   "execution_count": 1,
   "metadata": {},
   "outputs": [],
   "source": [
    "import numpy as np"
   ]
  },
  {
   "attachments": {},
   "cell_type": "markdown",
   "metadata": {},
   "source": [
    "## Load the data\n",
    "\n",
    "The data is contained in `tempfield.npy` and can be loaded with `np.load(tempfield.npy)`. The first three columns correspond to the `x`, `y`, and `z` locations of the data points, and the 4th column corresponds to the temperature `T` at the respective point. Store the data as you see fit."
   ]
  },
  {
   "cell_type": "code",
   "execution_count": 2,
   "metadata": {},
   "outputs": [],
   "source": [
    "# YORU CODE GOES HERE\n",
    "tempfield_data = np.load(\"tempfield.npy\")\n",
    "x = np.array(tempfield_data[:,0])\n",
    "y = np.array(tempfield_data[:,1])\n",
    "z = np.array(tempfield_data[:,2])\n",
    "T = np.array(tempfield_data[:,3])"
   ]
  },
  {
   "attachments": {},
   "cell_type": "markdown",
   "metadata": {},
   "source": [
    "## LLS Regression in 3D\n",
    "\n",
    "Now fit a linear function to the data using the closed for of LLS regression. Use your fitted function to report the predicted temperature at `x = 5, y = 5, z = 5`. You are free to add regularization to your model, but this is not required and will not be graded."
   ]
  },
  {
   "cell_type": "code",
   "execution_count": 3,
   "metadata": {},
   "outputs": [
    {
     "name": "stdout",
     "output_type": "stream",
     "text": [
      "The predicted temperature at (5, 5, 5) is: 21.389073383508922\n",
      "The direction of travel to experience the greatest decrease in temperature is: [ 0.13421269 -0.11741862 -0.72677374]\n"
     ]
    }
   ],
   "source": [
    "# YOUR CODE GOES HERE\n",
    "X = np.c_[x, y, z, np.ones(len(x))]\n",
    "w = np.linalg.inv(X.T @ X) @ X.T @ T.reshape(-1, 1)\n",
    "# Given x, y, z coordinates, predict the temperature at that point\n",
    "x_pred, y_pred, z_pred = 5, 5, 5\n",
    "\n",
    "# temperature prediction logic\n",
    "T_pred = np.array([x_pred, y_pred, z_pred, 1])@ w\n",
    "print(f'The predicted temperature at ({x_pred}, {y_pred}, {z_pred}) is: {T_pred[0]}')\n",
    "\n",
    "# direction of travel logic\n",
    "direction = -1*w[0:3].flatten()\n",
    "direction/np.linalg.norm(direction)\n",
    "print(f'The direction of travel to experience the greatest decrease in temperature is: {direction}')"
   ]
  },
  {
   "attachments": {},
   "cell_type": "markdown",
   "metadata": {},
   "source": [
    "## Gradient Intuition\n",
    "\n",
    "Using the function you fit in the previous part, in which direction should one move from the point `p = (5,5,5)` to experience the largest decrease in temperature in the immediate neighborhood of the point? Report the specific direction, along with your reasoning."
   ]
  },
  {
   "attachments": {},
   "cell_type": "markdown",
   "metadata": {},
   "source": [
    "### *Your answer goes here*\n",
    "\n",
    "The negative of the gradient moves you in the direction of the maximun decreasing rate of a function. One should move in the direction of [ 0.13421269 -0.11741862 -0.72677374] from the point point `p = (5,5,5)` to experience the largest decrease in temperature. "
   ]
  }
 ],
 "metadata": {
  "kernelspec": {
   "display_name": "base",
   "language": "python",
   "name": "python3"
  },
  "language_info": {
   "codemirror_mode": {
    "name": "ipython",
    "version": 3
   },
   "file_extension": ".py",
   "mimetype": "text/x-python",
   "name": "python",
   "nbconvert_exporter": "python",
   "pygments_lexer": "ipython3",
   "version": "3.9.13"
  },
  "orig_nbformat": 4
 },
 "nbformat": 4,
 "nbformat_minor": 2
}
