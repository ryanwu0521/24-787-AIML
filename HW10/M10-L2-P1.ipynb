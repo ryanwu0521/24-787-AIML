{
 "cells": [
  {
   "attachments": {},
   "cell_type": "markdown",
   "metadata": {},
   "source": [
    "# M10-L2 Problem 1\n",
    "\n",
    "In this problem, you will perform 10-fold cross validation to find the best of 3 regression models.\n",
    "\n",
    "You are given a dataset with testing and training data of another radial distribution function (measuring 'g(r)', the probability of a particle being a certain distance 'r' from another particle): `X_train, X_test, y_train, y_test`"
   ]
  },
  {
   "cell_type": "code",
   "execution_count": 6,
   "metadata": {},
   "outputs": [
    {
     "data": {
      "image/png": "[encoded data removed]",
      "text/plain": [
       "<Figure size 640x480 with 1 Axes>"
      ]
     },
     "metadata": {},
     "output_type": "display_data"
    }
   ],
   "source": [
    "import numpy as np\n",
    "import matplotlib.pyplot as plt\n",
    "from sklearn.neural_network import MLPRegressor\n",
    "from sklearn.model_selection import train_test_split, KFold\n",
    "from sklearn.base import clone\n",
    "\n",
    "def get_gr(r):\n",
    "    a, b, L, m, t, d = 0.54, 5.4, 1.2, 7.4, 100, 3.3\n",
    "    g1 = 1 + (r+1e-9)**(-m) * (d-1-L) + (r-1+L)/(r+1e-9)*np.exp(-a*(r-1))*np.cos(b*(r-1))\n",
    "    g2 = d * np.exp(-t*(r-1)**2)\n",
    "    g = g1*(r>=1) + g2*(r<1)\n",
    "    return g\n",
    "\n",
    "def plot_model(model,color=\"blue\"):\n",
    "    x = np.linspace(0, 5, 1000)\n",
    "    y = model.predict(x.reshape(-1,1))\n",
    "    plt.plot(x, y, color=color, linewidth=2, zorder=2)\n",
    "    plt.xlabel(\"r\")\n",
    "    plt.ylabel(\"g(r)\")\n",
    "\n",
    "def plot_data(x, y):\n",
    "    plt.scatter(x,y,s=1, color=\"black\")\n",
    "    plt.xlabel(\"r\")\n",
    "    plt.ylabel(\"g(r)\")\n",
    "\n",
    "\n",
    "np.random.seed(0)\n",
    "X = np.linspace(0,5,1000).reshape(-1,1)\n",
    "y = np.random.normal(get_gr(X.flatten()),0.1)\n",
    "\n",
    "X_train, X_test, y_train, y_test = train_test_split(X, y, random_state=0, train_size=800)\n",
    "\n",
    "\n",
    "plt.figure()\n",
    "plot_data(X,y)\n",
    "plt.show()\n"
   ]
  },
  {
   "attachments": {},
   "cell_type": "markdown",
   "metadata": {},
   "source": [
    "## Models\n",
    "Below we define 3 sklearn neural network models `model1`, `model2`, and `model3`. Your goal is to find which is best using 10-fold cross-validation."
   ]
  },
  {
   "cell_type": "code",
   "execution_count": 7,
   "metadata": {},
   "outputs": [],
   "source": [
    "model1 = MLPRegressor([24], random_state=0, activation=\"tanh\", max_iter=1000)\n",
    "model2 = MLPRegressor([48,48], random_state=0, activation=\"tanh\", max_iter=1000)\n",
    "model3 = MLPRegressor([64,64, 64], random_state=0, activation=\"relu\", max_iter=1000)\n",
    "\n",
    "\n",
    "models = [model1, model2, model3]\n",
    "for model in models:\n",
    "    model.fit(X_train, y_train)\n",
    "    "
   ]
  },
  {
   "attachments": {},
   "cell_type": "markdown",
   "metadata": {},
   "source": [
    "## Cross-validation folds\n",
    "\n",
    "\n",
    "This cell creates 10-fold iterator objects in sklearn. Make note of how this is done.\n",
    "\n",
    "We also provide code for computing the cross-validation score for average $R^2$ over validation folds. Note that the model is retrained on each fold, and weights/biases are reset each time with `sklearn.base.clone()`\n",
    "\n",
    "\n",
    "\n",
    "\n",
    "\n",
    "\n"
   ]
  },
  {
   "cell_type": "code",
   "execution_count": 8,
   "metadata": {},
   "outputs": [
    {
     "name": "stdout",
     "output_type": "stream",
     "text": [
      "Validation score: 0.17567883199274337\n",
      "Validation score: 0.19279856417941255\n",
      "Validation score: 0.277493724970579\n",
      "Validation score: 0.3104352357647894\n",
      "Validation score: 0.20608404129798263\n",
      "Validation score: 0.03790122395449669\n",
      "Validation score: 0.1676244803676995\n",
      "Validation score: 0.22025003724477432\n",
      "Validation score: 0.14423712046918646\n",
      "Validation score: 0.19894361702001595\n",
      "Average validation score for Model 1: 0.193144687726168\n"
     ]
    }
   ],
   "source": [
    "folds = KFold(n_splits=10,random_state=0,shuffle=True)\n",
    "\n",
    "\n",
    "scores1 = []\n",
    "for train_idx, val_idx in folds.split(X_train):\n",
    "    model1 = clone(model1)\n",
    "    model1.fit(X_train[train_idx,:],y_train[train_idx])\n",
    "    score = model1.score(X_train[val_idx,:],y_train[val_idx])\n",
    "    scores1.append(score)\n",
    "    print(f\"Validation score: {score}\")\n",
    "\n",
    "\n",
    "score1 = np.mean(np.array(scores1))\n",
    "print(f\"Average validation score for Model 1: {score1}\")\n"
   ]
  },
  {
   "attachments": {},
   "cell_type": "markdown",
   "metadata": {},
   "source": [
    "## Your turn: validating models 2 and 3\n",
    "\n",
    "Now follow the same procedure to get the average $R^2$ scores for `model2` and `model3` on validation folds. You can use the same KFold iterator."
   ]
  },
  {
   "cell_type": "code",
   "execution_count": 9,
   "metadata": {},
   "outputs": [
    {
     "name": "stdout",
     "output_type": "stream",
     "text": [
      "Validation score: 0.9135256064394238\n",
      "Validation score: 0.92381162019413\n",
      "Validation score: 0.9109428377428712\n",
      "Validation score: 0.916683295227516\n",
      "Validation score: 0.8980936123083956\n",
      "Validation score: 0.9208009063665946\n",
      "Validation score: 0.9123834705950664\n",
      "Validation score: 0.8780032287365068\n",
      "Validation score: 0.9281564779069267\n",
      "Validation score: 0.95771300087561\n",
      "Average validation score for Model 2: 0.9160114056393042\n",
      "Validation score: 0.9629033605148654\n",
      "Validation score: 0.9466107686883457\n",
      "Validation score: 0.9518315048355763\n",
      "Validation score: 0.9514051770741325\n",
      "Validation score: 0.9229643307655356\n",
      "Validation score: 0.9501422202077937\n",
      "Validation score: 0.9322229519501164\n",
      "Validation score: 0.9238931238090651\n",
      "Validation score: 0.9461292855545796\n",
      "Validation score: 0.9611128180031758\n",
      "Average validation score for Model 3: 0.9449215541403186\n"
     ]
    }
   ],
   "source": [
    "# YOUR CODE GOES HERE\n",
    "# model 2 validation\n",
    "scores2 = []\n",
    "for train_idx, val_idx in folds.split(X_train):\n",
    "    model2 = clone(model2)\n",
    "    model2.fit(X_train[train_idx,:],y_train[train_idx])\n",
    "    score = model2.score(X_train[val_idx,:],y_train[val_idx])\n",
    "    scores2.append(score)\n",
    "    print(f\"Validation score: {score}\")\n",
    "\n",
    "score2 = np.mean(np.array(scores2))\n",
    "print(f\"Average validation score for Model 2: {score2}\")\n",
    "\n",
    "# model 3 validation\n",
    "scores3 = []\n",
    "for train_idx, val_idx in folds.split(X_train):\n",
    "    model3 = clone(model3)\n",
    "    model3.fit(X_train[train_idx,:],y_train[train_idx])\n",
    "    score = model3.score(X_train[val_idx,:],y_train[val_idx])\n",
    "    scores3.append(score)\n",
    "    print(f\"Validation score: {score}\")\n",
    "\n",
    "score3 = np.mean(np.array(scores3))\n",
    "print(f\"Average validation score for Model 3: {score3}\")"
   ]
  },
  {
   "attachments": {},
   "cell_type": "markdown",
   "metadata": {},
   "source": [
    "# Comparing models\n",
    "\n",
    "Which model had the best performance according to your validation study?\n",
    "\n",
    "    From the validation study, Model 3 had the best performance.\n",
    "\n",
    "Retrain this model on the full training dataset and report the R2 score on training and testing data. Then complete the code to plot the model prediction with the data using the `plot_model` function.\n",
    "\n"
   ]
  },
  {
   "cell_type": "code",
   "execution_count": 10,
   "metadata": {},
   "outputs": [
    {
     "data": {
      "image/png": "[encoded data removed]",
      "text/plain": [
       "<Figure size 640x480 with 1 Axes>"
      ]
     },
     "metadata": {},
     "output_type": "display_data"
    }
   ],
   "source": [
    "# YOUR CODE GOES HERE\n",
    "\n",
    "\n",
    "plt.figure()\n",
    "plot_data(X,y)\n",
    "\n",
    "# YOUR CODE GOES HERE\n",
    "\n",
    "plt.show()\n"
   ]
  }
 ],
 "metadata": {
  "kernelspec": {
   "display_name": "aiml_env",
   "language": "python",
   "name": "python3"
  },
  "language_info": {
   "codemirror_mode": {
    "name": "ipython",
    "version": 3
   },
   "file_extension": ".py",
   "mimetype": "text/x-python",
   "name": "python",
   "nbconvert_exporter": "python",
   "pygments_lexer": "ipython3",
   "version": "3.9.13"
  },
  "orig_nbformat": 4
 },
 "nbformat": 4,
 "nbformat_minor": 2
}
